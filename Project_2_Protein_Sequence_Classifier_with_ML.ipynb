{
  "nbformat": 4,
  "nbformat_minor": 0,
  "metadata": {
    "colab": {
      "provenance": [],
      "authorship_tag": "ABX9TyN3jPdn1cLpiDrpmPLXiGB7",
      "include_colab_link": true
    },
    "kernelspec": {
      "name": "python3",
      "display_name": "Python 3"
    },
    "language_info": {
      "name": "python"
    }
  },
  "cells": [
    {
      "cell_type": "markdown",
      "metadata": {
        "id": "view-in-github",
        "colab_type": "text"
      },
      "source": [
        "<a href=\"https://colab.research.google.com/github/quickbrainlab/Project_2_Protein_Sequence_Classifier_with_ML/blob/main/Project_2_Protein_Sequence_Classifier_with_ML.ipynb\" target=\"_parent\"><img src=\"https://colab.research.google.com/assets/colab-badge.svg\" alt=\"Open In Colab\"/></a>"
      ]
    },
    {
      "cell_type": "markdown",
      "source": [
        "**Step 1: Create a csv**\n",
        "Open *Notepad* or *Google Sheets*, and paste the data in this format:\n",
        "\n",
        "\n",
        "Sequence,Label\n",
        "MVLSPADKTNVKAAWGKVGAHAGEYGAEALERMF,Non-Enzyme\n",
        "MALWMRLLPLLALLALWGPDPAAA,Hormone\n",
        "MKAKLLLAVVTLATARLSYVNQ,Enzyme\n",
        "MKWVTFISLLFLFSSAYS,Enzyme\n",
        "MKWVTFISLLFLFSSAYSRGVFRRDTHKSEIAHRFKDLGE,Non-Enzyme\n",
        "\n",
        "\n",
        "👉 Save this as protein_data.csv.\n"
      ],
      "metadata": {
        "id": "DOdpk-Ir7FPA"
      }
    },
    {
      "cell_type": "markdown",
      "source": [
        "**Step 2: Load the Dataset**"
      ],
      "metadata": {
        "id": "J8jrVlsm7dno"
      }
    },
    {
      "cell_type": "code",
      "source": [
        "import pandas as pd\n",
        "from sklearn.model_selection import train_test_split\n",
        "from sklearn.ensemble import RandomForestClassifier\n",
        "from sklearn.metrics import classification_report, confusion_matrix\n",
        "\n",
        "\n",
        "df = pd.read_csv(\"protein_data.csv\")\n",
        "print(df.head())"
      ],
      "metadata": {
        "colab": {
          "base_uri": "https://localhost:8080/"
        },
        "id": "BS9jTEVL7dBE",
        "outputId": "6d59b5c5-3ac8-4c2c-c008-02cd60e83285"
      },
      "execution_count": null,
      "outputs": [
        {
          "output_type": "stream",
          "name": "stdout",
          "text": [
            "                                   Sequence       Label\n",
            "0        MVLSPADKTNVKAAWGKVGAHAGEYGAEALERMF  Non-Enzyme\n",
            "1                  MALWMRLLPLLALLALWGPDPAAA     Hormone\n",
            "2                    MKAKLLLAVVTLATARLSYVNQ      Enzyme\n",
            "3                        MKWVTFISLLFLFSSAYS      Enzyme\n",
            "4  MKWVTFISLLFLFSSAYSRGVFRRDTHKSEIAHRFKDLGE  Non-Enzyme\n"
          ]
        }
      ]
    },
    {
      "cell_type": "markdown",
      "source": [
        "**Step 3: Preprocess the Data**\n",
        "Convert amino acid sequences into numerical features.\n",
        "You can start by encoding amino acids using frequency or one-hot encoding. Here’s a simple way to convert sequences into amino acid frequencies:"
      ],
      "metadata": {
        "id": "-GEKBAs68k-f"
      }
    },
    {
      "cell_type": "code",
      "source": [
        "from collections import Counter\n",
        "import pandas as pd\n",
        "\n",
        "# Load the CSV file\n",
        "df = pd.read_csv(\"protein_data.csv\")\n",
        "\n",
        "# Define function to convert each protein Sequence into amino acid frequency\n",
        "def aa_frequency(Sequence):\n",
        "    sequence = str(Sequence).upper()\n",
        "    count = Counter(Sequence)\n",
        "    total = len(Sequence)\n",
        "    return {aa: count.get(aa, 0)/total for aa in 'ACDEFGHIKLMNPQRSTVWY'}\n",
        "\n",
        "# Apply the function to each sequence\n",
        "features_df = df['Sequence'].apply(aa_frequency).apply(pd.Series)\n",
        "\n",
        "# Combine features with label column\n",
        "final_df = pd.concat([features_df, df['Label']], axis=1)\n",
        "\n",
        "# Show final processed data\n",
        "print(final_df.head())"
      ],
      "metadata": {
        "colab": {
          "base_uri": "https://localhost:8080/"
        },
        "id": "ZHCGOMxw8lLw",
        "outputId": "08261d08-208e-44ae-e439-6ae5c4d286f6"
      },
      "execution_count": null,
      "outputs": [
        {
          "output_type": "stream",
          "name": "stdout",
          "text": [
            "          A    C         D         E         F         G         H         I  \\\n",
            "0  0.205882  0.0  0.029412  0.088235  0.029412  0.117647  0.029412  0.000000   \n",
            "1  0.250000  0.0  0.041667  0.000000  0.000000  0.041667  0.000000  0.000000   \n",
            "2  0.181818  0.0  0.000000  0.000000  0.000000  0.000000  0.000000  0.000000   \n",
            "3  0.055556  0.0  0.000000  0.000000  0.166667  0.000000  0.000000  0.055556   \n",
            "4  0.050000  0.0  0.050000  0.050000  0.125000  0.050000  0.050000  0.050000   \n",
            "\n",
            "          K         L  ...         N         P         Q         R         S  \\\n",
            "0  0.088235  0.058824  ...  0.029412  0.029412  0.000000  0.029412  0.029412   \n",
            "1  0.000000  0.333333  ...  0.000000  0.125000  0.000000  0.041667  0.000000   \n",
            "2  0.090909  0.227273  ...  0.045455  0.000000  0.045455  0.045455  0.045455   \n",
            "3  0.055556  0.166667  ...  0.000000  0.000000  0.000000  0.000000  0.222222   \n",
            "4  0.075000  0.100000  ...  0.000000  0.000000  0.000000  0.100000  0.125000   \n",
            "\n",
            "          T         V         W         Y       Label  \n",
            "0  0.029412  0.088235  0.029412  0.029412  Non-Enzyme  \n",
            "1  0.000000  0.000000  0.083333  0.000000     Hormone  \n",
            "2  0.090909  0.136364  0.000000  0.045455      Enzyme  \n",
            "3  0.055556  0.055556  0.055556  0.055556      Enzyme  \n",
            "4  0.050000  0.050000  0.025000  0.025000  Non-Enzyme  \n",
            "\n",
            "[5 rows x 21 columns]\n"
          ]
        }
      ]
    },
    {
      "cell_type": "markdown",
      "source": [
        "**Step 4: Train-Test Split**"
      ],
      "metadata": {
        "id": "Jd0tgTxEANk9"
      }
    },
    {
      "cell_type": "code",
      "source": [
        "from sklearn.model_selection import train_test_split\n",
        "from sklearn.ensemble import RandomForestClassifier\n",
        "from sklearn.metrics import accuracy_score, classification_report\n",
        "# Split data into features and labels\n",
        "X = final_df.drop('Label', axis=1)\n",
        "y = final_df['Label']\n",
        "# Split into training and testing datasets\n",
        "X_train, X_test, y_train, y_test = train_test_split(X, y, test_size=0.2, random_state=42)\n",
        "# Train the model\n",
        "model = RandomForestClassifier(n_estimators=100, random_state=42)\n",
        "model.fit(X_train, y_train)\n",
        "# Predict on the test set\n",
        "y_pred = model.predict(X_test)"
      ],
      "metadata": {
        "id": "9_6tNfjcAViP"
      },
      "execution_count": null,
      "outputs": []
    },
    {
      "cell_type": "code",
      "source": [
        "print(\"Model has been trained successfully.\")"
      ],
      "metadata": {
        "colab": {
          "base_uri": "https://localhost:8080/"
        },
        "id": "Qv_uVQuzCAd8",
        "outputId": "a0f9c311-4da3-42b9-8238-c68da97ddd12"
      },
      "execution_count": null,
      "outputs": [
        {
          "output_type": "stream",
          "name": "stdout",
          "text": [
            "Model has been trained successfully.\n"
          ]
        }
      ]
    },
    {
      "cell_type": "markdown",
      "source": [
        "**Evaluate The Model**"
      ],
      "metadata": {
        "id": "HjYQuRbLCHQx"
      }
    },
    {
      "cell_type": "code",
      "source": [
        "# Accuracy of the model\n",
        "accuracy = accuracy_score(y_test, y_pred)\n",
        "print(\"Model Accuracy:\", accuracy)\n",
        "\n",
        "# Classification Report\n",
        "report = classification_report(y_test, y_pred)\n",
        "print(\"Classification Report:\\n\", report)"
      ],
      "metadata": {
        "colab": {
          "base_uri": "https://localhost:8080/"
        },
        "id": "3LM4gtCvCWm5",
        "outputId": "6d6266f5-4910-45fc-a85e-7118e059e999"
      },
      "execution_count": null,
      "outputs": [
        {
          "output_type": "stream",
          "name": "stdout",
          "text": [
            "Model Accuracy: 0.0\n",
            "Classification Report:\n",
            "               precision    recall  f1-score   support\n",
            "\n",
            "     Hormone       0.00      0.00      0.00       1.0\n",
            "  Non-Enzyme       0.00      0.00      0.00       0.0\n",
            "\n",
            "    accuracy                           0.00       1.0\n",
            "   macro avg       0.00      0.00      0.00       1.0\n",
            "weighted avg       0.00      0.00      0.00       1.0\n",
            "\n"
          ]
        },
        {
          "output_type": "stream",
          "name": "stderr",
          "text": [
            "/usr/local/lib/python3.11/dist-packages/sklearn/metrics/_classification.py:1565: UndefinedMetricWarning: Precision is ill-defined and being set to 0.0 in labels with no predicted samples. Use `zero_division` parameter to control this behavior.\n",
            "  _warn_prf(average, modifier, f\"{metric.capitalize()} is\", len(result))\n",
            "/usr/local/lib/python3.11/dist-packages/sklearn/metrics/_classification.py:1565: UndefinedMetricWarning: Recall is ill-defined and being set to 0.0 in labels with no true samples. Use `zero_division` parameter to control this behavior.\n",
            "  _warn_prf(average, modifier, f\"{metric.capitalize()} is\", len(result))\n",
            "/usr/local/lib/python3.11/dist-packages/sklearn/metrics/_classification.py:1565: UndefinedMetricWarning: Precision is ill-defined and being set to 0.0 in labels with no predicted samples. Use `zero_division` parameter to control this behavior.\n",
            "  _warn_prf(average, modifier, f\"{metric.capitalize()} is\", len(result))\n",
            "/usr/local/lib/python3.11/dist-packages/sklearn/metrics/_classification.py:1565: UndefinedMetricWarning: Recall is ill-defined and being set to 0.0 in labels with no true samples. Use `zero_division` parameter to control this behavior.\n",
            "  _warn_prf(average, modifier, f\"{metric.capitalize()} is\", len(result))\n",
            "/usr/local/lib/python3.11/dist-packages/sklearn/metrics/_classification.py:1565: UndefinedMetricWarning: Precision is ill-defined and being set to 0.0 in labels with no predicted samples. Use `zero_division` parameter to control this behavior.\n",
            "  _warn_prf(average, modifier, f\"{metric.capitalize()} is\", len(result))\n",
            "/usr/local/lib/python3.11/dist-packages/sklearn/metrics/_classification.py:1565: UndefinedMetricWarning: Recall is ill-defined and being set to 0.0 in labels with no true samples. Use `zero_division` parameter to control this behavior.\n",
            "  _warn_prf(average, modifier, f\"{metric.capitalize()} is\", len(result))\n"
          ]
        }
      ]
    },
    {
      "cell_type": "markdown",
      "source": [
        "**Bonus (Optional): Predict on a new sequence\n",
        "If you want to classify a new protein sequence:**"
      ],
      "metadata": {
        "id": "4uwjroemCkk-"
      }
    },
    {
      "cell_type": "code",
      "source": [
        "# Example protein sequence\n",
        "new_seq = \"MVKVYAPASSANMSVGFDVLGAAVTPVDGALLGDVVTVEAAETFSLNNLGQK\"  # Just an example\n",
        "\n",
        "# Convert to amino acid frequency\n",
        "new_features = pd.DataFrame([aa_frequency(new_seq)])\n",
        "\n",
        "# Predict using trained model\n",
        "prediction = model.predict(new_features)\n",
        "print(\"Predicted class:\", prediction[0])"
      ],
      "metadata": {
        "colab": {
          "base_uri": "https://localhost:8080/"
        },
        "id": "DCSz23hyCkxg",
        "outputId": "3f501680-6fee-4810-c085-138eceedf441"
      },
      "execution_count": null,
      "outputs": [
        {
          "output_type": "stream",
          "name": "stdout",
          "text": [
            "Predicted class: Non-Enzyme\n"
          ]
        }
      ]
    },
    {
      "cell_type": "markdown",
      "source": [
        "**Bonus Tip:\n",
        "Save the trained model (if you want to use it later):**"
      ],
      "metadata": {
        "id": "N_mCIyKJC7bd"
      }
    },
    {
      "cell_type": "code",
      "source": [
        "import joblib\n",
        "joblib.dump(model, \"protein_classifier.pkl\")"
      ],
      "metadata": {
        "colab": {
          "base_uri": "https://localhost:8080/"
        },
        "id": "tvCBB-MjC7pA",
        "outputId": "d921aec7-9fdb-4a92-8565-90b70916470e"
      },
      "execution_count": null,
      "outputs": [
        {
          "output_type": "execute_result",
          "data": {
            "text/plain": [
              "['protein_classifier.pkl']"
            ]
          },
          "metadata": {},
          "execution_count": 43
        }
      ]
    }
  ]
}