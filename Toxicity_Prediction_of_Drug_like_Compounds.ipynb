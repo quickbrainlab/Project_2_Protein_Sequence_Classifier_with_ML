{
  "nbformat": 4,
  "nbformat_minor": 0,
  "metadata": {
    "colab": {
      "provenance": [],
      "authorship_tag": "ABX9TyM2NC8QJ0ul3/VdgnlfnC3o",
      "include_colab_link": true
    },
    "kernelspec": {
      "name": "python3",
      "display_name": "Python 3"
    },
    "language_info": {
      "name": "python"
    }
  },
  "cells": [
    {
      "cell_type": "markdown",
      "metadata": {
        "id": "view-in-github",
        "colab_type": "text"
      },
      "source": [
        "<a href=\"https://colab.research.google.com/github/quickbrainlab/Project_2_Protein_Sequence_Classifier_with_ML/blob/main/Toxicity_Prediction_of_Drug_like_Compounds.ipynb\" target=\"_parent\"><img src=\"https://colab.research.google.com/assets/colab-badge.svg\" alt=\"Open In Colab\"/></a>"
      ]
    },
    {
      "cell_type": "markdown",
      "source": [
        "**Step 1:Prepare the Dataset**"
      ],
      "metadata": {
        "id": "S0M1QyI0ffXz"
      }
    },
    {
      "cell_type": "code",
      "execution_count": 2,
      "metadata": {
        "id": "KqNqecCtdw3O"
      },
      "outputs": [],
      "source": [
        "data = \"\"\"Compound,SMILES,Label\n",
        "Aspirin,CC(=O)OC1=CC=CC=C1C(=O)O,0\n",
        "Caffeine,CN1C=NC2=C1C(=O)N(C(=O)N2C)C,0\n",
        "Nicotine,CN1CCCC1C2=CN=CC=C2,1\n",
        "Paracetamol,CC(=O)NC1=CC=C(C=C1)O,0\n",
        "Benzene,C1=CC=CC=C1,1\n",
        "\"\"\"\n",
        "with open(\"toxicity_data.csv\", \"w\") as f:\n",
        "    f.write(data)"
      ]
    },
    {
      "cell_type": "markdown",
      "source": [
        "**Step 2:Install Required Libraries**"
      ],
      "metadata": {
        "id": "Zf9Xr3zgfrrq"
      }
    },
    {
      "cell_type": "code",
      "source": [
        "!pip install rdkit-pypi pandas scikit-learn"
      ],
      "metadata": {
        "colab": {
          "base_uri": "https://localhost:8080/"
        },
        "id": "RtA1fVj2eH0C",
        "outputId": "5d40bf76-28d6-41e3-b84b-8aa4cc05e7ef"
      },
      "execution_count": 3,
      "outputs": [
        {
          "output_type": "stream",
          "name": "stdout",
          "text": [
            "Collecting rdkit-pypi\n",
            "  Downloading rdkit_pypi-2022.9.5-cp311-cp311-manylinux_2_17_x86_64.manylinux2014_x86_64.whl.metadata (3.9 kB)\n",
            "Requirement already satisfied: pandas in /usr/local/lib/python3.11/dist-packages (2.2.2)\n",
            "Requirement already satisfied: scikit-learn in /usr/local/lib/python3.11/dist-packages (1.6.1)\n",
            "Requirement already satisfied: numpy in /usr/local/lib/python3.11/dist-packages (from rdkit-pypi) (2.0.2)\n",
            "Requirement already satisfied: Pillow in /usr/local/lib/python3.11/dist-packages (from rdkit-pypi) (11.2.1)\n",
            "Requirement already satisfied: python-dateutil>=2.8.2 in /usr/local/lib/python3.11/dist-packages (from pandas) (2.9.0.post0)\n",
            "Requirement already satisfied: pytz>=2020.1 in /usr/local/lib/python3.11/dist-packages (from pandas) (2025.2)\n",
            "Requirement already satisfied: tzdata>=2022.7 in /usr/local/lib/python3.11/dist-packages (from pandas) (2025.2)\n",
            "Requirement already satisfied: scipy>=1.6.0 in /usr/local/lib/python3.11/dist-packages (from scikit-learn) (1.15.3)\n",
            "Requirement already satisfied: joblib>=1.2.0 in /usr/local/lib/python3.11/dist-packages (from scikit-learn) (1.5.1)\n",
            "Requirement already satisfied: threadpoolctl>=3.1.0 in /usr/local/lib/python3.11/dist-packages (from scikit-learn) (3.6.0)\n",
            "Requirement already satisfied: six>=1.5 in /usr/local/lib/python3.11/dist-packages (from python-dateutil>=2.8.2->pandas) (1.17.0)\n",
            "Downloading rdkit_pypi-2022.9.5-cp311-cp311-manylinux_2_17_x86_64.manylinux2014_x86_64.whl (29.4 MB)\n",
            "\u001b[2K   \u001b[90m━━━━━━━━━━━━━━━━━━━━━━━━━━━━━━━━━━━━━━━━\u001b[0m \u001b[32m29.4/29.4 MB\u001b[0m \u001b[31m64.8 MB/s\u001b[0m eta \u001b[36m0:00:00\u001b[0m\n",
            "\u001b[?25hInstalling collected packages: rdkit-pypi\n",
            "Successfully installed rdkit-pypi-2022.9.5\n"
          ]
        }
      ]
    },
    {
      "cell_type": "markdown",
      "source": [
        "**Step 3:Generate Molecular Descriptors**"
      ],
      "metadata": {
        "id": "5LxvrPj4f3AV"
      }
    },
    {
      "cell_type": "code",
      "source": [
        "import pandas as pd\n",
        "from rdkit import Chem\n",
        "from rdkit.Chem import Descriptors\n",
        "\n",
        "# Load data\n",
        "df = pd.read_csv(\"toxicity_data.csv\")\n",
        "\n",
        "# Function to calculate descriptors\n",
        "def calc_descriptors(smiles):\n",
        "    mol = Chem.MolFromSmiles(smiles)\n",
        "    return [\n",
        "        Descriptors.MolWt(mol),\n",
        "        Descriptors.NumRotatableBonds(mol),\n",
        "        Descriptors.TPSA(mol),\n",
        "        Descriptors.MolLogP(mol)\n",
        "    ]\n",
        "\n",
        "# Apply to dataset\n",
        "df[['MolWt', 'RotBonds', 'TPSA', 'LogP']] = df['SMILES'].apply(lambda x: pd.Series(calc_descriptors(x)))"
      ],
      "metadata": {
        "id": "H6P87COxeQVT"
      },
      "execution_count": 3,
      "outputs": []
    },
    {
      "cell_type": "markdown",
      "source": [
        "**Step 4:Train Machine Learning Model**"
      ],
      "metadata": {
        "id": "II5voSzpgGls"
      }
    },
    {
      "cell_type": "code",
      "source": [
        "from sklearn.model_selection import train_test_split\n",
        "from sklearn.ensemble import RandomForestClassifier\n",
        "from sklearn.metrics import accuracy_score\n",
        "\n",
        "# Prepare features and label\n",
        "X = df[['MolWt', 'RotBonds', 'TPSA', 'LogP']]\n",
        "y = df['Label']\n",
        "\n",
        "# Split data\n",
        "X_train, X_test, y_train, y_test = train_test_split(X, y, test_size=0.2, random_state=42)\n",
        "\n",
        "# Train model\n",
        "model = RandomForestClassifier()\n",
        "model.fit(X_train, y_train)\n",
        "\n",
        "# Predict & evaluate\n",
        "y_pred = model.predict(X_test)\n",
        "print(\"Accuracy:\", accuracy_score(y_test, y_pred))"
      ],
      "metadata": {
        "colab": {
          "base_uri": "https://localhost:8080/"
        },
        "id": "gNiZQmlNfFMM",
        "outputId": "c72f5cc7-c5ac-4adb-ca6a-26ddfc9a6da5"
      },
      "execution_count": 4,
      "outputs": [
        {
          "output_type": "stream",
          "name": "stdout",
          "text": [
            "Accuracy: 1.0\n"
          ]
        }
      ]
    },
    {
      "cell_type": "markdown",
      "source": [
        "**Step 5:Save Your Model**"
      ],
      "metadata": {
        "id": "Z4OsYG1qgV3U"
      }
    },
    {
      "cell_type": "code",
      "source": [
        "import joblib\n",
        "joblib.dump(model, \"tox_model.pkl\")"
      ],
      "metadata": {
        "colab": {
          "base_uri": "https://localhost:8080/"
        },
        "id": "cvHJai48fPaj",
        "outputId": "47741929-e07b-411b-ba62-e42cc935f03a"
      },
      "execution_count": 5,
      "outputs": [
        {
          "output_type": "execute_result",
          "data": {
            "text/plain": [
              "['tox_model.pkl']"
            ]
          },
          "metadata": {},
          "execution_count": 5
        }
      ]
    },
    {
      "cell_type": "markdown",
      "source": [
        "**Step 6:Use the Model for New Prediction**"
      ],
      "metadata": {
        "id": "_ZgdXzJMgf5q"
      }
    },
    {
      "cell_type": "code",
      "source": [
        "# Example compound\n",
        "smiles = \"CC(=O)OC1=CC=CC=C1C(=O)O\"  # Aspirin\n",
        "features = calc_descriptors(smiles)\n",
        "prediction = model.predict([features])\n",
        "print(\"Prediction (1 = Toxic, 0 = Non-toxic):\", prediction[0])"
      ],
      "metadata": {
        "colab": {
          "base_uri": "https://localhost:8080/"
        },
        "id": "CmG9CLRJfZPS",
        "outputId": "36c04403-ff4f-4b74-de33-817b29007a5a"
      },
      "execution_count": 6,
      "outputs": [
        {
          "output_type": "stream",
          "name": "stdout",
          "text": [
            "Prediction (1 = Toxic, 0 = Non-toxic): 0\n"
          ]
        },
        {
          "output_type": "stream",
          "name": "stderr",
          "text": [
            "/usr/local/lib/python3.11/dist-packages/sklearn/utils/validation.py:2739: UserWarning: X does not have valid feature names, but RandomForestClassifier was fitted with feature names\n",
            "  warnings.warn(\n"
          ]
        }
      ]
    }
  ]
}